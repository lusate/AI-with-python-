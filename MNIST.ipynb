{
 "cells": [
  {
   "cell_type": "code",
   "execution_count": 120,
   "id": "78b86ca3",
   "metadata": {},
   "outputs": [],
   "source": [
    "#Softmax 실습\n",
    "#Softmax는 선택해야 하는 선택지의 총 개수를 k라고 할 때, k차원의 벡터를 입력받아\n",
    "#각 클래스에 대한 확률을 추정하는 것이다\n",
    "import math\n",
    "from math import e # e : lnx(오일러 상수)\n",
    "\n",
    "import torch"
   ]
  },
  {
   "cell_type": "code",
   "execution_count": 121,
   "id": "a85b8279",
   "metadata": {},
   "outputs": [
    {
     "name": "stdout",
     "output_type": "stream",
     "text": [
      "Eulers constant 2.718281828459045\n"
     ]
    }
   ],
   "source": [
    "print(\"Eulers constant\", e)"
   ]
  },
  {
   "cell_type": "code",
   "execution_count": 122,
   "id": "56cd47ff",
   "metadata": {},
   "outputs": [],
   "source": [
    "input_softmax = torch.tensor([1.0,2.0,3.0,4.0,5.0,6.0])\n",
    "torch_e = torch.tensor(e)"
   ]
  },
  {
   "cell_type": "code",
   "execution_count": 123,
   "id": "24972f1d",
   "metadata": {},
   "outputs": [
    {
     "data": {
      "text/plain": [
       "tensor([1., 2., 3., 4., 5., 6.])"
      ]
     },
     "execution_count": 123,
     "metadata": {},
     "output_type": "execute_result"
    }
   ],
   "source": [
    "input_softmax"
   ]
  },
  {
   "cell_type": "code",
   "execution_count": 124,
   "id": "619a9454",
   "metadata": {},
   "outputs": [
    {
     "data": {
      "text/plain": [
       "tensor(636.6328)"
      ]
     },
     "execution_count": 124,
     "metadata": {},
     "output_type": "execute_result"
    }
   ],
   "source": [
    "denominator = torch.sum(torch.pow(torch_e, input_softmax)) # 분모\n",
    "denominator"
   ]
  },
  {
   "cell_type": "code",
   "execution_count": 125,
   "id": "9df29bc7",
   "metadata": {},
   "outputs": [
    {
     "data": {
      "text/plain": [
       "tensor([  2.7183,   7.3891,  20.0855,  54.5981, 148.4131, 403.4287])"
      ]
     },
     "execution_count": 125,
     "metadata": {},
     "output_type": "execute_result"
    }
   ],
   "source": [
    "numerator = torch.pow(torch_e, input_softmax) #분자\n",
    "numerator"
   ]
  },
  {
   "cell_type": "code",
   "execution_count": 126,
   "id": "572e8582",
   "metadata": {},
   "outputs": [
    {
     "data": {
      "text/plain": [
       "tensor([0.0043, 0.0116, 0.0315, 0.0858, 0.2331, 0.6337])"
      ]
     },
     "execution_count": 126,
     "metadata": {},
     "output_type": "execute_result"
    }
   ],
   "source": [
    "#분자 나누기 분모를 한다. 그러면 softmax 계산식이 나온다.\n",
    "softmax_output = numerator / denominator\n",
    "softmax_output"
   ]
  },
  {
   "cell_type": "code",
   "execution_count": 127,
   "id": "6a67b263",
   "metadata": {},
   "outputs": [
    {
     "data": {
      "text/plain": [
       "tensor([0.0043, 0.0116, 0.0315, 0.0858, 0.2331, 0.6337])"
      ]
     },
     "execution_count": 127,
     "metadata": {},
     "output_type": "execute_result"
    }
   ],
   "source": [
    "#Softmax uning pytorch\n",
    "softmax_function = torch.nn.Softmax(dim=0)\n",
    "softmax_function(input_softmax) # 위 계산과 같은 값이 나옴"
   ]
  },
  {
   "cell_type": "code",
   "execution_count": 128,
   "id": "89646ce6",
   "metadata": {},
   "outputs": [],
   "source": [
    "###MNIST 분석 시간!\n",
    "import numpy as np\n",
    "import matplotlib.pyplot as plt\n",
    "import random"
   ]
  },
  {
   "cell_type": "code",
   "execution_count": 129,
   "id": "632ec7fd",
   "metadata": {},
   "outputs": [],
   "source": [
    "from torchvision import datasets\n",
    "import torchvision.transforms as transforms #데이터를 어떤 형식으로 갖고 올지 알려줌"
   ]
  },
  {
   "cell_type": "code",
   "execution_count": 130,
   "id": "e99aeeb6",
   "metadata": {},
   "outputs": [
    {
     "name": "stdout",
     "output_type": "stream",
     "text": [
      "cpu\n"
     ]
    }
   ],
   "source": [
    "device = 'cuda' if torch.cuda.is_available() else 'cpu'\n",
    "print(device) #cuda 가 없으면 cpu로\n",
    "\n",
    "random.seed(777) #랜덤값 섞어줌\n",
    "torch.manual_seed(777)\n",
    "if device == 'cpu': #나는 cuda 없어서 cpu로 한거\n",
    "    torch.cuda.manual_seed_all(777)\n",
    "    "
   ]
  },
  {
   "cell_type": "code",
   "execution_count": 131,
   "id": "4edf9c8e",
   "metadata": {},
   "outputs": [],
   "source": [
    "# transform.ToTensor() : data type 을 torch.FloatTensor 로 바꾸어줌\n",
    "train_data = datasets.MNIST(root='./image.data/MNIST', train=True, download=True, transform = transforms.ToTensor())\n",
    "test_data = datasets.MNIST(root='./image.data/MNIST', train=True, download=True, transform = transforms.ToTensor())"
   ]
  },
  {
   "cell_type": "code",
   "execution_count": 132,
   "id": "97679ddc",
   "metadata": {},
   "outputs": [],
   "source": [
    "#prepare date loaders\n",
    "batch_size=1000\n",
    "\n",
    "train_loader = torch.utils.data.DataLoader(train_data, batch_size=1000) # batch 사이즈 별로 데이터를 나누어 줄 때 사용\n",
    "test_loader = torch.utils.data.DataLoader(test_data, batch_size=1000)"
   ]
  },
  {
   "cell_type": "code",
   "execution_count": 133,
   "id": "223c7a91",
   "metadata": {},
   "outputs": [],
   "source": [
    "#get image\n",
    "for batch_idx, image in enumerate(train_loader):\n",
    "    sample_image = image[0].reshape(batch_size, 28,28).to(device)\n",
    "    break"
   ]
  },
  {
   "cell_type": "code",
   "execution_count": 134,
   "id": "b0e6e9a1",
   "metadata": {},
   "outputs": [
    {
     "data": {
      "text/plain": [
       "torch.Size([28, 28])"
      ]
     },
     "execution_count": 134,
     "metadata": {},
     "output_type": "execute_result"
    }
   ],
   "source": [
    "sample_image[0].shape"
   ]
  },
  {
   "cell_type": "code",
   "execution_count": 135,
   "id": "ad890a77",
   "metadata": {},
   "outputs": [
    {
     "data": {
      "image/png": "[encoded data removed]",
      "text/plain": [
       "<Figure size 1440x360 with 20 Axes>"
      ]
     },
     "metadata": {
      "needs_background": "light"
     },
     "output_type": "display_data"
    }
   ],
   "source": [
    "n = 20 #몇개를 보일 것인가\n",
    "plt.figure(figsize=(20,5)) # 전체 figure 들의 총행, 열의 크기\n",
    "\n",
    "for i in range(n):\n",
    "    #original Data\n",
    "    # = plt.subplot(행의 갯수, 열의 갯수, index)\n",
    "    ax = plt.subplot(2,10,i+1) #2줄 10개로 만든다.\n",
    "    \n",
    "    test_img = sample_image[i].to(device) #100개 단위로 출력\n",
    "    plt.imshow(test_img.cpu(), cmap='gray')\n",
    "    #지금 우리 데이터는 cuda에 올라가있는데 gpu 메모리에 있으므로 cpu로 바꿔주어야 한다\n",
    "    #cpu로 바꿔야 이미지가 나온다.\n",
    "    \n",
    "    ax.get_xaxis().set_visible(False) #이미지 옆에 숫자를 없애줌\n",
    "    ax.get_yaxis().set_visible(False)"
   ]
  },
  {
   "cell_type": "code",
   "execution_count": 136,
   "id": "ab803921",
   "metadata": {},
   "outputs": [
    {
     "data": {
      "text/plain": [
       "torch.Size([28, 28])"
      ]
     },
     "execution_count": 136,
     "metadata": {},
     "output_type": "execute_result"
    }
   ],
   "source": [
    "sample_image[0].shape"
   ]
  },
  {
   "cell_type": "code",
   "execution_count": 137,
   "id": "3608959f",
   "metadata": {},
   "outputs": [
    {
     "data": {
      "text/plain": [
       "tensor([[0.0000, 0.0000, 0.0000, 0.0000, 0.0000, 0.0000, 0.0000, 0.0000, 0.0000,\n",
       "         0.0000, 0.0000, 0.0000, 0.0000, 0.0000, 0.0000, 0.0000, 0.0000, 0.0000,\n",
       "         0.0000, 0.0000, 0.0000, 0.0000, 0.0000, 0.0000, 0.0000, 0.0000, 0.0000,\n",
       "         0.0000],\n",
       "        [0.0000, 0.0000, 0.0000, 0.0000, 0.0000, 0.0000, 0.0000, 0.0000, 0.0000,\n",
       "         0.0000, 0.0000, 0.0000, 0.0000, 0.0000, 0.0000, 0.0000, 0.0000, 0.0000,\n",
       "         0.0000, 0.0000, 0.0000, 0.0000, 0.0000, 0.0000, 0.0000, 0.0000, 0.0000,\n",
       "         0.0000],\n",
       "        [0.0000, 0.0000, 0.0000, 0.0000, 0.0000, 0.0000, 0.0000, 0.0000, 0.0000,\n",
       "         0.0000, 0.0000, 0.0000, 0.0000, 0.0000, 0.0000, 0.0000, 0.0000, 0.0000,\n",
       "         0.0000, 0.0000, 0.0000, 0.0000, 0.0000, 0.0000, 0.0000, 0.0000, 0.0000,\n",
       "         0.0000],\n",
       "        [0.0000, 0.0000, 0.0000, 0.0000, 0.0000, 0.0000, 0.0000, 0.0000, 0.0000,\n",
       "         0.0000, 0.0000, 0.0000, 0.0000, 0.0000, 0.0000, 0.0000, 0.0000, 0.0000,\n",
       "         0.0000, 0.0000, 0.0000, 0.0000, 0.0000, 0.0000, 0.0000, 0.0000, 0.0000,\n",
       "         0.0000],\n",
       "        [0.0000, 0.0000, 0.0000, 0.0000, 0.0000, 0.0000, 0.0000, 0.0000, 0.0000,\n",
       "         0.0000, 0.0000, 0.0000, 0.0000, 0.0000, 0.0000, 0.0000, 0.0000, 0.0000,\n",
       "         0.0000, 0.0000, 0.0000, 0.0000, 0.0000, 0.0000, 0.0000, 0.0000, 0.0000,\n",
       "         0.0000],\n",
       "        [0.0000, 0.0000, 0.0000, 0.0000, 0.0000, 0.0000, 0.0000, 0.0000, 0.0000,\n",
       "         0.0000, 0.0000, 0.0000, 0.0118, 0.0706, 0.0706, 0.0706, 0.4941, 0.5333,\n",
       "         0.6863, 0.1020, 0.6510, 1.0000, 0.9686, 0.4980, 0.0000, 0.0000, 0.0000,\n",
       "         0.0000],\n",
       "        [0.0000, 0.0000, 0.0000, 0.0000, 0.0000, 0.0000, 0.0000, 0.0000, 0.1176,\n",
       "         0.1412, 0.3686, 0.6039, 0.6667, 0.9922, 0.9922, 0.9922, 0.9922, 0.9922,\n",
       "         0.8824, 0.6745, 0.9922, 0.9490, 0.7647, 0.2510, 0.0000, 0.0000, 0.0000,\n",
       "         0.0000],\n",
       "        [0.0000, 0.0000, 0.0000, 0.0000, 0.0000, 0.0000, 0.0000, 0.1922, 0.9333,\n",
       "         0.9922, 0.9922, 0.9922, 0.9922, 0.9922, 0.9922, 0.9922, 0.9922, 0.9843,\n",
       "         0.3647, 0.3216, 0.3216, 0.2196, 0.1529, 0.0000, 0.0000, 0.0000, 0.0000,\n",
       "         0.0000],\n",
       "        [0.0000, 0.0000, 0.0000, 0.0000, 0.0000, 0.0000, 0.0000, 0.0706, 0.8588,\n",
       "         0.9922, 0.9922, 0.9922, 0.9922, 0.9922, 0.7765, 0.7137, 0.9686, 0.9451,\n",
       "         0.0000, 0.0000, 0.0000, 0.0000, 0.0000, 0.0000, 0.0000, 0.0000, 0.0000,\n",
       "         0.0000],\n",
       "        [0.0000, 0.0000, 0.0000, 0.0000, 0.0000, 0.0000, 0.0000, 0.0000, 0.3137,\n",
       "         0.6118, 0.4196, 0.9922, 0.9922, 0.8039, 0.0431, 0.0000, 0.1686, 0.6039,\n",
       "         0.0000, 0.0000, 0.0000, 0.0000, 0.0000, 0.0000, 0.0000, 0.0000, 0.0000,\n",
       "         0.0000],\n",
       "        [0.0000, 0.0000, 0.0000, 0.0000, 0.0000, 0.0000, 0.0000, 0.0000, 0.0000,\n",
       "         0.0549, 0.0039, 0.6039, 0.9922, 0.3529, 0.0000, 0.0000, 0.0000, 0.0000,\n",
       "         0.0000, 0.0000, 0.0000, 0.0000, 0.0000, 0.0000, 0.0000, 0.0000, 0.0000,\n",
       "         0.0000],\n",
       "        [0.0000, 0.0000, 0.0000, 0.0000, 0.0000, 0.0000, 0.0000, 0.0000, 0.0000,\n",
       "         0.0000, 0.0000, 0.5451, 0.9922, 0.7451, 0.0078, 0.0000, 0.0000, 0.0000,\n",
       "         0.0000, 0.0000, 0.0000, 0.0000, 0.0000, 0.0000, 0.0000, 0.0000, 0.0000,\n",
       "         0.0000],\n",
       "        [0.0000, 0.0000, 0.0000, 0.0000, 0.0000, 0.0000, 0.0000, 0.0000, 0.0000,\n",
       "         0.0000, 0.0000, 0.0431, 0.7451, 0.9922, 0.2745, 0.0000, 0.0000, 0.0000,\n",
       "         0.0000, 0.0000, 0.0000, 0.0000, 0.0000, 0.0000, 0.0000, 0.0000, 0.0000,\n",
       "         0.0000],\n",
       "        [0.0000, 0.0000, 0.0000, 0.0000, 0.0000, 0.0000, 0.0000, 0.0000, 0.0000,\n",
       "         0.0000, 0.0000, 0.0000, 0.1373, 0.9451, 0.8824, 0.6275, 0.4235, 0.0039,\n",
       "         0.0000, 0.0000, 0.0000, 0.0000, 0.0000, 0.0000, 0.0000, 0.0000, 0.0000,\n",
       "         0.0000],\n",
       "        [0.0000, 0.0000, 0.0000, 0.0000, 0.0000, 0.0000, 0.0000, 0.0000, 0.0000,\n",
       "         0.0000, 0.0000, 0.0000, 0.0000, 0.3176, 0.9412, 0.9922, 0.9922, 0.4667,\n",
       "         0.0980, 0.0000, 0.0000, 0.0000, 0.0000, 0.0000, 0.0000, 0.0000, 0.0000,\n",
       "         0.0000],\n",
       "        [0.0000, 0.0000, 0.0000, 0.0000, 0.0000, 0.0000, 0.0000, 0.0000, 0.0000,\n",
       "         0.0000, 0.0000, 0.0000, 0.0000, 0.0000, 0.1765, 0.7294, 0.9922, 0.9922,\n",
       "         0.5882, 0.1059, 0.0000, 0.0000, 0.0000, 0.0000, 0.0000, 0.0000, 0.0000,\n",
       "         0.0000],\n",
       "        [0.0000, 0.0000, 0.0000, 0.0000, 0.0000, 0.0000, 0.0000, 0.0000, 0.0000,\n",
       "         0.0000, 0.0000, 0.0000, 0.0000, 0.0000, 0.0000, 0.0627, 0.3647, 0.9882,\n",
       "         0.9922, 0.7333, 0.0000, 0.0000, 0.0000, 0.0000, 0.0000, 0.0000, 0.0000,\n",
       "         0.0000],\n",
       "        [0.0000, 0.0000, 0.0000, 0.0000, 0.0000, 0.0000, 0.0000, 0.0000, 0.0000,\n",
       "         0.0000, 0.0000, 0.0000, 0.0000, 0.0000, 0.0000, 0.0000, 0.0000, 0.9765,\n",
       "         0.9922, 0.9765, 0.2510, 0.0000, 0.0000, 0.0000, 0.0000, 0.0000, 0.0000,\n",
       "         0.0000],\n",
       "        [0.0000, 0.0000, 0.0000, 0.0000, 0.0000, 0.0000, 0.0000, 0.0000, 0.0000,\n",
       "         0.0000, 0.0000, 0.0000, 0.0000, 0.0000, 0.1804, 0.5098, 0.7176, 0.9922,\n",
       "         0.9922, 0.8118, 0.0078, 0.0000, 0.0000, 0.0000, 0.0000, 0.0000, 0.0000,\n",
       "         0.0000],\n",
       "        [0.0000, 0.0000, 0.0000, 0.0000, 0.0000, 0.0000, 0.0000, 0.0000, 0.0000,\n",
       "         0.0000, 0.0000, 0.0000, 0.1529, 0.5804, 0.8980, 0.9922, 0.9922, 0.9922,\n",
       "         0.9804, 0.7137, 0.0000, 0.0000, 0.0000, 0.0000, 0.0000, 0.0000, 0.0000,\n",
       "         0.0000],\n",
       "        [0.0000, 0.0000, 0.0000, 0.0000, 0.0000, 0.0000, 0.0000, 0.0000, 0.0000,\n",
       "         0.0000, 0.0941, 0.4471, 0.8667, 0.9922, 0.9922, 0.9922, 0.9922, 0.7882,\n",
       "         0.3059, 0.0000, 0.0000, 0.0000, 0.0000, 0.0000, 0.0000, 0.0000, 0.0000,\n",
       "         0.0000],\n",
       "        [0.0000, 0.0000, 0.0000, 0.0000, 0.0000, 0.0000, 0.0000, 0.0000, 0.0902,\n",
       "         0.2588, 0.8353, 0.9922, 0.9922, 0.9922, 0.9922, 0.7765, 0.3176, 0.0078,\n",
       "         0.0000, 0.0000, 0.0000, 0.0000, 0.0000, 0.0000, 0.0000, 0.0000, 0.0000,\n",
       "         0.0000],\n",
       "        [0.0000, 0.0000, 0.0000, 0.0000, 0.0000, 0.0000, 0.0706, 0.6706, 0.8588,\n",
       "         0.9922, 0.9922, 0.9922, 0.9922, 0.7647, 0.3137, 0.0353, 0.0000, 0.0000,\n",
       "         0.0000, 0.0000, 0.0000, 0.0000, 0.0000, 0.0000, 0.0000, 0.0000, 0.0000,\n",
       "         0.0000],\n",
       "        [0.0000, 0.0000, 0.0000, 0.0000, 0.2157, 0.6745, 0.8863, 0.9922, 0.9922,\n",
       "         0.9922, 0.9922, 0.9569, 0.5216, 0.0431, 0.0000, 0.0000, 0.0000, 0.0000,\n",
       "         0.0000, 0.0000, 0.0000, 0.0000, 0.0000, 0.0000, 0.0000, 0.0000, 0.0000,\n",
       "         0.0000],\n",
       "        [0.0000, 0.0000, 0.0000, 0.0000, 0.5333, 0.9922, 0.9922, 0.9922, 0.8314,\n",
       "         0.5294, 0.5176, 0.0627, 0.0000, 0.0000, 0.0000, 0.0000, 0.0000, 0.0000,\n",
       "         0.0000, 0.0000, 0.0000, 0.0000, 0.0000, 0.0000, 0.0000, 0.0000, 0.0000,\n",
       "         0.0000],\n",
       "        [0.0000, 0.0000, 0.0000, 0.0000, 0.0000, 0.0000, 0.0000, 0.0000, 0.0000,\n",
       "         0.0000, 0.0000, 0.0000, 0.0000, 0.0000, 0.0000, 0.0000, 0.0000, 0.0000,\n",
       "         0.0000, 0.0000, 0.0000, 0.0000, 0.0000, 0.0000, 0.0000, 0.0000, 0.0000,\n",
       "         0.0000],\n",
       "        [0.0000, 0.0000, 0.0000, 0.0000, 0.0000, 0.0000, 0.0000, 0.0000, 0.0000,\n",
       "         0.0000, 0.0000, 0.0000, 0.0000, 0.0000, 0.0000, 0.0000, 0.0000, 0.0000,\n",
       "         0.0000, 0.0000, 0.0000, 0.0000, 0.0000, 0.0000, 0.0000, 0.0000, 0.0000,\n",
       "         0.0000],\n",
       "        [0.0000, 0.0000, 0.0000, 0.0000, 0.0000, 0.0000, 0.0000, 0.0000, 0.0000,\n",
       "         0.0000, 0.0000, 0.0000, 0.0000, 0.0000, 0.0000, 0.0000, 0.0000, 0.0000,\n",
       "         0.0000, 0.0000, 0.0000, 0.0000, 0.0000, 0.0000, 0.0000, 0.0000, 0.0000,\n",
       "         0.0000]])"
      ]
     },
     "execution_count": 137,
     "metadata": {},
     "output_type": "execute_result"
    }
   ],
   "source": [
    "sample_image[0]"
   ]
  },
  {
   "cell_type": "code",
   "execution_count": 193,
   "id": "641ff0bf",
   "metadata": {},
   "outputs": [],
   "source": [
    "# 뉴럴 layer 설정\n",
    "linear1 = torch.nn.Linear(784, 256)\n",
    "linear2 = torch.nn.Linear(256,64)\n",
    "linear3 = torch.nn.Linear(64,10)"
   ]
  },
  {
   "cell_type": "code",
   "execution_count": 194,
   "id": "d3571080",
   "metadata": {},
   "outputs": [
    {
     "data": {
      "text/plain": [
       "Sequential(\n",
       "  (0): Linear(in_features=784, out_features=256, bias=True)\n",
       "  (1): Linear(in_features=256, out_features=64, bias=True)\n",
       "  (2): Linear(in_features=64, out_features=10, bias=True)\n",
       ")"
      ]
     },
     "execution_count": 194,
     "metadata": {},
     "output_type": "execute_result"
    }
   ],
   "source": [
    "#Sequential 을 이용해 model 설정\n",
    "# 위의 뉴럴 layer들을 가지고 온다.\n",
    "model = torch.nn.Sequential(linear1, linear2, linear3).to(device)\n",
    "#model 도 gpu에 올려주어야 한다.\n",
    "model"
   ]
  },
  {
   "cell_type": "code",
   "execution_count": 195,
   "id": "f78b374b",
   "metadata": {},
   "outputs": [],
   "source": [
    "epoch = 15 #epoch는 전체 데이터셋에 대해 한 번 학습을 완료한 상태이다\n",
    "learning_rate = 0.01"
   ]
  },
  {
   "cell_type": "code",
   "execution_count": 196,
   "id": "f0642a62",
   "metadata": {},
   "outputs": [],
   "source": [
    "#CrossEntropyLoss 내에 Softmax function 이 포함되어 있으므로 따로 설정해줄 필요없다.\n",
    "loss_function = torch.nn.CrossEntropyLoss()"
   ]
  },
  {
   "cell_type": "code",
   "execution_count": 197,
   "id": "835dcb01",
   "metadata": {},
   "outputs": [],
   "source": [
    "#먼저 optimizer 는 SGD로 설정\n",
    "optimizer = torch.optim.SGD(model.parameters(), lr = learning_rate)"
   ]
  },
  {
   "cell_type": "code",
   "execution_count": 198,
   "id": "c19ee84f",
   "metadata": {},
   "outputs": [
    {
     "name": "stdout",
     "output_type": "stream",
     "text": [
      "1\n",
      "2\n",
      "3\n",
      "4\n",
      "5\n",
      "6\n",
      "7\n",
      "8\n",
      "9\n",
      "10\n",
      "11\n",
      "12\n",
      "13\n",
      "14\n",
      "15\n",
      "16\n",
      "17\n",
      "18\n",
      "19\n",
      "20\n",
      "21\n",
      "22\n",
      "23\n",
      "24\n",
      "25\n",
      "26\n",
      "27\n",
      "28\n",
      "29\n",
      "30\n",
      "31\n",
      "32\n",
      "33\n",
      "34\n",
      "35\n",
      "36\n",
      "37\n",
      "38\n",
      "39\n",
      "40\n",
      "41\n",
      "42\n",
      "43\n",
      "44\n",
      "45\n",
      "46\n",
      "47\n",
      "48\n",
      "49\n",
      "50\n",
      "51\n",
      "52\n",
      "53\n",
      "54\n",
      "55\n",
      "56\n",
      "57\n",
      "58\n",
      "59\n",
      "60\n"
     ]
    }
   ],
   "source": [
    "for batch_idx, (x_data, y_label) in enumerate(train_loader):\n",
    "    print(batch_idx+1) \n",
    "#mini batch 사이즈가 1000, train 데이터 개수가 총 6만이므로 배치는 총 60개가 생긴다"
   ]
  },
  {
   "cell_type": "code",
   "execution_count": 199,
   "id": "562b7acb",
   "metadata": {
    "scrolled": true
   },
   "outputs": [
    {
     "name": "stdout",
     "output_type": "stream",
     "text": [
      "20th mini-batch loss = 2.28\n",
      "40th mini-batch loss = 2.24\n",
      "60th mini-batch loss = 2.2\n",
      "Epoch = 1\tAverage loss = 2.26\n",
      "\n",
      "20th mini-batch loss = 2.16\n",
      "40th mini-batch loss = 2.13\n",
      "60th mini-batch loss = 2.07\n",
      "Epoch = 2\tAverage loss = 2.15\n",
      "\n",
      "20th mini-batch loss = 2.02\n",
      "40th mini-batch loss = 1.99\n",
      "60th mini-batch loss = 1.91\n",
      "Epoch = 3\tAverage loss = 2.01\n",
      "\n",
      "20th mini-batch loss = 1.85\n",
      "40th mini-batch loss = 1.82\n",
      "60th mini-batch loss = 1.71\n",
      "Epoch = 4\tAverage loss = 1.84\n",
      "\n",
      "20th mini-batch loss = 1.65\n",
      "40th mini-batch loss = 1.62\n",
      "60th mini-batch loss = 1.48\n",
      "Epoch = 5\tAverage loss = 1.65\n",
      "\n",
      "20th mini-batch loss = 1.43\n",
      "40th mini-batch loss = 1.41\n",
      "60th mini-batch loss = 1.26\n",
      "Epoch = 6\tAverage loss = 1.43\n",
      "\n",
      "20th mini-batch loss = 1.23\n",
      "40th mini-batch loss = 1.23\n",
      "60th mini-batch loss = 1.06\n",
      "Epoch = 7\tAverage loss = 1.24\n",
      "\n",
      "20th mini-batch loss = 1.06\n",
      "40th mini-batch loss = 1.08\n",
      "60th mini-batch loss = 0.904\n",
      "Epoch = 8\tAverage loss = 1.08\n",
      "\n",
      "20th mini-batch loss = 0.923\n",
      "40th mini-batch loss = 0.957\n",
      "60th mini-batch loss = 0.784\n",
      "Epoch = 9\tAverage loss = 0.949\n",
      "\n",
      "20th mini-batch loss = 0.82\n",
      "40th mini-batch loss = 0.865\n",
      "60th mini-batch loss = 0.692\n",
      "Epoch = 10\tAverage loss = 0.851\n",
      "\n",
      "20th mini-batch loss = 0.742\n",
      "40th mini-batch loss = 0.794\n",
      "60th mini-batch loss = 0.622\n",
      "Epoch = 11\tAverage loss = 0.774\n",
      "\n",
      "20th mini-batch loss = 0.681\n",
      "40th mini-batch loss = 0.739\n",
      "60th mini-batch loss = 0.566\n",
      "Epoch = 12\tAverage loss = 0.714\n",
      "\n",
      "20th mini-batch loss = 0.632\n",
      "40th mini-batch loss = 0.694\n",
      "60th mini-batch loss = 0.523\n",
      "Epoch = 13\tAverage loss = 0.666\n",
      "\n",
      "20th mini-batch loss = 0.593\n",
      "40th mini-batch loss = 0.658\n",
      "60th mini-batch loss = 0.487\n",
      "Epoch = 14\tAverage loss = 0.627\n",
      "\n",
      "20th mini-batch loss = 0.561\n",
      "40th mini-batch loss = 0.629\n",
      "60th mini-batch loss = 0.458\n",
      "Epoch = 15\tAverage loss = 0.595\n",
      "\n"
     ]
    }
   ],
   "source": [
    "loss_list = []\n",
    "for num_epoch in range(epoch):\n",
    "    average_loss = 0\n",
    "    # 배치가 하나 훈련이 될 때마다 배치에 대한 CrossEntropyLoss가 생기는데 이 Loss를 누적해서\n",
    "    # 더한 다음에 배치 하나가 전체를 한 번 돌면 60으로 나누어서 평균 loss를 구한다.\n",
    "    \n",
    "    #\n",
    "    for batch_idx,(x_data, y_label) in enumerate(train_loader):\n",
    "        input_image = x_data.reshape(-1, 28*28).to(device) #dpu 위에 올려준다(dpu를 계산할거기 때문에)\n",
    "        label = y_label\n",
    "        \n",
    "        optimizer.zero_grad() #기울기 0으로 초기화\n",
    "        y_predict = model(input_image) # 실제로 model 안에 이미지 넣는다.\n",
    "        \n",
    "        #loss 도 gpu 위에 올려주어야 한다.\n",
    "        loss = loss_function(y_predict, label.type(torch.LongTensor))\n",
    "        #예상값과 실제값을 CrossEntropy로 차이를 구한다\n",
    "        \n",
    "        if (batch_idx+1) % 20 == 0: #batch가 20으로 나누어 떨어지는데 그 때마다 loss가 어떻게 되는지 확인\n",
    "            print(\"{}th mini-batch loss = {:.3}\".format((batch_idx+1), loss.item()))\n",
    "            \n",
    "        loss.backward()\n",
    "        optimizer.step() #weight 값 업데이트\n",
    "        \n",
    "        average_loss = average_loss + (loss.item()/60) #epoch 하나의 평균 loss를 구함\n",
    "        #60은 mini-batch 개수\n",
    "        loss_list.append(loss.cpu().detach().numpy())\n",
    "        \n",
    "        #epoch 마다 평균 loss 값을 print\n",
    "    print(\"Epoch = {}\\tAverage loss = {:.3}\\n\".format((num_epoch+1), average_loss))"
   ]
  },
  {
   "cell_type": "code",
   "execution_count": 200,
   "id": "092c3051",
   "metadata": {},
   "outputs": [],
   "source": [
    "#Test\n",
    "#test data 는 gradient를 계산할 필요가 없다\n",
    "with torch.no_grad():\n",
    "    correct = 0 # 맞는 것의 개수를 count\n",
    "    \n",
    "    for batch_idx, (x_data, y_label) in enumerate(test_loader):\n",
    "        input_image = x_data.reshape(-1,784).to(device)\n",
    "        label = y_label.to(device)\n",
    "        \n",
    "        outputs = model(input_image)\n",
    "        outputs_softmax = torch.nn.functional.softmax(outputs, dim=1) #softmax 가져오는 방법\n",
    "        break\n"
   ]
  },
  {
   "cell_type": "code",
   "execution_count": 201,
   "id": "b40d4f93",
   "metadata": {},
   "outputs": [
    {
     "data": {
      "text/plain": [
       "tensor([4.6739e-02, 1.5875e-03, 1.0201e-02, 5.7961e-01, 5.4428e-04, 2.8229e-01,\n",
       "        2.9355e-03, 1.6699e-03, 7.0798e-02, 3.6246e-03])"
      ]
     },
     "execution_count": 201,
     "metadata": {},
     "output_type": "execute_result"
    }
   ],
   "source": [
    "outputs_softmax[0]"
   ]
  },
  {
   "cell_type": "code",
   "execution_count": 202,
   "id": "8a91f0df",
   "metadata": {},
   "outputs": [
    {
     "data": {
      "text/plain": [
       "tensor(3)"
      ]
     },
     "execution_count": 202,
     "metadata": {},
     "output_type": "execute_result"
    }
   ],
   "source": [
    "#torch.argmax : 어떤 인덱스에 있는 값이 가장 큰 것인지를 알려준다.\n",
    "torch.argmax(outputs_softmax[0], dim=0)"
   ]
  },
  {
   "cell_type": "code",
   "execution_count": 203,
   "id": "baa35fc5",
   "metadata": {},
   "outputs": [
    {
     "data": {
      "text/plain": [
       "tensor([4.6739e-02, 1.5875e-03, 1.0201e-02, 5.7961e-01, 5.4428e-04, 2.8229e-01,\n",
       "        2.9355e-03, 1.6699e-03, 7.0798e-02, 3.6246e-03])"
      ]
     },
     "execution_count": 203,
     "metadata": {},
     "output_type": "execute_result"
    }
   ],
   "source": [
    "outputs_softmax[0]"
   ]
  },
  {
   "cell_type": "code",
   "execution_count": 204,
   "id": "1de73516",
   "metadata": {},
   "outputs": [
    {
     "name": "stdout",
     "output_type": "stream",
     "text": [
      "맞춘 개수 ->  50956\n",
      "SGD를 이용한 모델의 정확도는 509.56%\n"
     ]
    }
   ],
   "source": [
    "#Test\n",
    "with torch.no_grad():\n",
    "    correct = 0 # 맞는 것의 개수를 count\n",
    "    \n",
    "    for batch_idx, (x_data, y_label) in enumerate(test_loader):\n",
    "        input_image = x_data.reshape(-1,784).to(device)\n",
    "        label = y_label.to(device)\n",
    "        \n",
    "        outputs = model(input_image)\n",
    "        outputs_softmax = torch.nn.functional.softmax(outputs, dim=1) #softmax 가져오는 방법\n",
    "        \n",
    "        predicted = torch.argmax(outputs_softmax, dim=1)\n",
    "        # 정답과 맞는지 확인\n",
    "        # 맞는 것의 개수를 확인\n",
    "        answer = sum(label == predicted).item() # 같다면 더한다. 같은 것은 1로 취급하여 더해진다.\n",
    "        \n",
    "        correct = correct + answer\n",
    "        \n",
    "    print(\"맞춘 개수 -> \",correct)\n",
    "    #test 데이터는 총 10,000개\n",
    "    print(\"SGD를 이용한 모델의 정확도는 {:.2f}%\".format((correct/10000)*100))\n"
   ]
  },
  {
   "cell_type": "code",
   "execution_count": 205,
   "id": "6b2f5b1a",
   "metadata": {},
   "outputs": [
    {
     "name": "stdout",
     "output_type": "stream",
     "text": [
      "Softmax\n",
      " [1.4886494e-02 8.4347375e-05 2.4119375e-02 3.8910325e-04 4.4541378e-02\n",
      " 7.6474221e-03 8.9538664e-01 2.9023943e-04 5.8149067e-03 6.8400688e-03]\n"
     ]
    }
   ],
   "source": [
    "#판단 방법\n",
    "print(\"Softmax\\n\", outputs_softmax[0].cpu().numpy())"
   ]
  },
  {
   "cell_type": "code",
   "execution_count": 206,
   "id": "b004a2bb",
   "metadata": {},
   "outputs": [
    {
     "name": "stdout",
     "output_type": "stream",
     "text": [
      "예측한 숫자는 6이다\n"
     ]
    },
    {
     "data": {
      "text/plain": [
       "<matplotlib.image.AxesImage at 0x284626281f0>"
      ]
     },
     "execution_count": 206,
     "metadata": {},
     "output_type": "execute_result"
    },
    {
     "data": {
      "image/png": "[encoded data removed]",
      "text/plain": [
       "<Figure size 432x288 with 1 Axes>"
      ]
     },
     "metadata": {
      "needs_background": "light"
     },
     "output_type": "display_data"
    }
   ],
   "source": [
    "print(\"예측한 숫자는 {}이다\".format(predicted[0]))\n",
    "plt.imshow(x_data[0].cpu().reshape(28,28), cmap='gray')"
   ]
  },
  {
   "cell_type": "code",
   "execution_count": null,
   "id": "2892e289",
   "metadata": {},
   "outputs": [],
   "source": []
  }
 ],
 "metadata": {
  "kernelspec": {
   "display_name": "Python 3 (ipykernel)",
   "language": "python",
   "name": "python3"
  },
  "language_info": {
   "codemirror_mode": {
    "name": "ipython",
    "version": 3
   },
   "file_extension": ".py",
   "mimetype": "text/x-python",
   "name": "python",
   "nbconvert_exporter": "python",
   "pygments_lexer": "ipython3",
   "version": "3.9.7"
  }
 },
 "nbformat": 4,
 "nbformat_minor": 5
}
